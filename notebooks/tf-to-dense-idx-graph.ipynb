{
 "cells": [
  {
   "cell_type": "code",
   "execution_count": 1,
   "metadata": {},
   "outputs": [],
   "source": [
    "import tensorflow as tf\n",
    "#tf.compat.v1.disable_eager_execution()"
   ]
  },
  {
   "cell_type": "code",
   "execution_count": 2,
   "metadata": {},
   "outputs": [],
   "source": [
    "def to_dense_idx(indices, T):\n",
    "    \"\"\"Given indices in the form [row, col] ordered by row output where this index should go in a list of all possible indices.\n",
    "\n",
    "    example on a 3, 3 output space\n",
    "\n",
    "    The inputs are\n",
    "        [0, 0],\n",
    "        [0, 1],\n",
    "        [1, 2],\n",
    "        [2, 1],\n",
    "        [2, 2],\n",
    "\n",
    "    Adding these into a full list of indices would result in\n",
    "        [0, 0],\n",
    "        [0, 1],\n",
    "        [0, 0],\n",
    "        [1, 2],\n",
    "        [0, 0],\n",
    "        [0, 0],\n",
    "        [2, 1],\n",
    "        [2, 2],\n",
    "        [0, 0],\n",
    "\n",
    "    The index mapping (the output of this function)\n",
    "        [0, 1, 3, 6, 7]\n",
    "\n",
    "    \"\"\"\n",
    "    idx = tf.TensorArray(dtype=tf.int64, size=tf.shape(indices)[0], dynamic_size=False)\n",
    "    prev = tf.cast(-1, tf.int64)\n",
    "    j = tf.cast(0, tf.int64)\n",
    "    T = tf.cast(T, tf.int64)\n",
    "    for i in range(tf.shape(indices)[0]):\n",
    "        if indices[i][0] == prev:\n",
    "            j += 1\n",
    "        else:\n",
    "            prev = indices[i][0]\n",
    "            j = tf.cast(0, tf.int64)\n",
    "        idx = idx.write(i, prev * T + j)\n",
    "    return idx.stack()\n"
   ]
  },
  {
   "cell_type": "code",
   "execution_count": 11,
   "metadata": {},
   "outputs": [],
   "source": [
    "indices = tf.cast(tf.convert_to_tensor([\n",
    "    [0, 0],\n",
    "    [0, 1],\n",
    "    [1, 2],\n",
    "    [3, 1],\n",
    "    [2, 1],\n",
    "    [2, 3],\n",
    "    [2, 5],\n",
    "]), tf.int64)\n",
    "T = tf.convert_to_tensor(3)"
   ]
  },
  {
   "cell_type": "code",
   "execution_count": 12,
   "metadata": {},
   "outputs": [
    {
     "data": {
      "text/plain": [
       "<tf.Tensor: shape=(7,), dtype=int64, numpy=array([0, 1, 3, 9, 6, 7, 8])>"
      ]
     },
     "execution_count": 12,
     "metadata": {},
     "output_type": "execute_result"
    }
   ],
   "source": [
    "to_dense_idx(indices, T)"
   ]
  },
  {
   "cell_type": "code",
   "execution_count": 13,
   "metadata": {},
   "outputs": [],
   "source": [
    "def to_dense_idx_graph(indices, T):\n",
    "    i = tf.cast(0, tf.int32)\n",
    "    j = tf.cast(0, tf.int64)\n",
    "    T = tf.cast(T, tf.int64)\n",
    "    prev = tf.cast(-1, tf.int64)\n",
    "    idx = tf.TensorArray(dtype=tf.int64, size=tf.shape(indices)[0], dynamic_size=False)\n",
    "    \n",
    "    cond = lambda i, *args: tf.less(i, tf.shape(indices)[0])\n",
    "    \n",
    "    def body(i, p, j, idx):\n",
    "        val = indices[i, 0]\n",
    "        \n",
    "        true = lambda: tf.add(j, 1)\n",
    "        false = lambda: tf.cast(0, tf.int64)\n",
    "                \n",
    "        res = tf.cond(tf.equal(val, p), true, false)\n",
    "        idx = idx.write(i, val * T + res)\n",
    "        \n",
    "        return tf.add(i, 1), val, res, idx\n",
    "    \n",
    "    r = tf.while_loop(\n",
    "        cond,\n",
    "        body,\n",
    "        [i, prev, j, idx]\n",
    "    )\n",
    "    return r[-1].stack()"
   ]
  },
  {
   "cell_type": "code",
   "execution_count": 14,
   "metadata": {},
   "outputs": [
    {
     "data": {
      "text/plain": [
       "<tf.Tensor: shape=(7,), dtype=int64, numpy=array([0, 1, 3, 9, 6, 7, 8])>"
      ]
     },
     "execution_count": 14,
     "metadata": {},
     "output_type": "execute_result"
    }
   ],
   "source": [
    "dense = to_dense_idx_graph(indices, T)\n",
    "dense"
   ]
  },
  {
   "cell_type": "code",
   "execution_count": null,
   "metadata": {},
   "outputs": [],
   "source": []
  }
 ],
 "metadata": {
  "kernelspec": {
   "display_name": "Python 3",
   "language": "python",
   "name": "python3"
  },
  "language_info": {
   "codemirror_mode": {
    "name": "ipython",
    "version": 3
   },
   "file_extension": ".py",
   "mimetype": "text/x-python",
   "name": "python",
   "nbconvert_exporter": "python",
   "pygments_lexer": "ipython3",
   "version": "3.6.9"
  }
 },
 "nbformat": 4,
 "nbformat_minor": 2
}
