{
 "cells": [
  {
   "cell_type": "code",
   "execution_count": 1,
   "metadata": {},
   "outputs": [],
   "source": [
    "import numpy as np\n",
    "import tensorflow as tf"
   ]
  },
  {
   "cell_type": "code",
   "execution_count": 2,
   "metadata": {},
   "outputs": [],
   "source": [
    "B = 6\n",
    "T = 4\n",
    "H = 5"
   ]
  },
  {
   "cell_type": "code",
   "execution_count": 3,
   "metadata": {},
   "outputs": [],
   "source": [
    "def make_batch(B, T, H):\n",
    "    b = np.arange(1, B + 1).reshape(-1, 1)\n",
    "    t = np.arange(1, T + 1).reshape(1, -1) / 10\n",
    "    h = (np.arange(1, H + 1) / 100)\n",
    "    batch = (np.expand_dims(b + t, -1) + h).astype(np.float32)\n",
    "    lengths = make_lengths(B, T)\n",
    "    #for i, l in enumerate(lengths):\n",
    "    #    batch[i, l:] = 0\n",
    "    return batch, lengths\n",
    "\n",
    "def make_lengths(B, T):\n",
    "    lengths = np.full((B,), T)\n",
    "    idx = np.random.randint(0, B, size=(B // 2 + 1))\n",
    "    lengths[idx] = np.random.randint(1, T, size=(idx.shape))\n",
    "    return lengths"
   ]
  },
  {
   "cell_type": "code",
   "execution_count": 4,
   "metadata": {},
   "outputs": [],
   "source": [
    "data, lengths = make_batch(B, T, H)"
   ]
  },
  {
   "cell_type": "code",
   "execution_count": 5,
   "metadata": {},
   "outputs": [
    {
     "data": {
      "text/plain": [
       "array([4, 2, 4, 2, 3, 4])"
      ]
     },
     "execution_count": 5,
     "metadata": {},
     "output_type": "execute_result"
    }
   ],
   "source": [
    "lengths"
   ]
  },
  {
   "cell_type": "code",
   "execution_count": 6,
   "metadata": {},
   "outputs": [],
   "source": [
    "batch = tf.convert_to_tensor(data)\n",
    "lengths = tf.convert_to_tensor(lengths)\n",
    "mask = tf.sequence_mask(lengths, tf.reduce_max(lengths))"
   ]
  },
  {
   "cell_type": "code",
   "execution_count": 7,
   "metadata": {},
   "outputs": [],
   "source": [
    "# This doesn't work when the mask has holes in it\n",
    "def dense_masked_select(tensor, mask):\n",
    "    B = tf.shape(mask)[0]\n",
    "    T = tf.shape(mask)[1]\n",
    "    all_indices = tf.transpose(tf.unravel_index(indices=tf.range(B * T), dims=[B, T]))\n",
    "    indices = tf.where(tf.reshape(tf.cast(mask, tf.bool), (-1, 1)), all_indices, tf.zeros_like(all_indices))\n",
    "    selected = tf.gather_nd(tensor, indices)\n",
    "    dense = tf.reshape(selected, (B, T, -1))\n",
    "    return tf.multiply(dense, tf.expand_dims(tf.cast(mask, dense.dtype), -1))"
   ]
  },
  {
   "cell_type": "code",
   "execution_count": 8,
   "metadata": {},
   "outputs": [],
   "source": [
    "d = dense_masked_select(batch, mask)"
   ]
  },
  {
   "cell_type": "code",
   "execution_count": 9,
   "metadata": {},
   "outputs": [
    {
     "data": {
      "text/plain": [
       "TensorShape([6, 4, 5])"
      ]
     },
     "execution_count": 9,
     "metadata": {},
     "output_type": "execute_result"
    }
   ],
   "source": [
    "d.shape"
   ]
  },
  {
   "cell_type": "code",
   "execution_count": 10,
   "metadata": {},
   "outputs": [
    {
     "data": {
      "text/plain": [
       "<tf.Tensor: shape=(6, 4, 5), dtype=float32, numpy=\n",
       "array([[[1.11, 1.12, 1.13, 1.14, 1.15],\n",
       "        [1.21, 1.22, 1.23, 1.24, 1.25],\n",
       "        [1.31, 1.32, 1.33, 1.34, 1.35],\n",
       "        [1.41, 1.42, 1.43, 1.44, 1.45]],\n",
       "\n",
       "       [[2.11, 2.12, 2.13, 2.14, 2.15],\n",
       "        [2.21, 2.22, 2.23, 2.24, 2.25],\n",
       "        [0.  , 0.  , 0.  , 0.  , 0.  ],\n",
       "        [0.  , 0.  , 0.  , 0.  , 0.  ]],\n",
       "\n",
       "       [[3.11, 3.12, 3.13, 3.14, 3.15],\n",
       "        [3.21, 3.22, 3.23, 3.24, 3.25],\n",
       "        [3.31, 3.32, 3.33, 3.34, 3.35],\n",
       "        [3.41, 3.42, 3.43, 3.44, 3.45]],\n",
       "\n",
       "       [[4.11, 4.12, 4.13, 4.14, 4.15],\n",
       "        [4.21, 4.22, 4.23, 4.24, 4.25],\n",
       "        [0.  , 0.  , 0.  , 0.  , 0.  ],\n",
       "        [0.  , 0.  , 0.  , 0.  , 0.  ]],\n",
       "\n",
       "       [[5.11, 5.12, 5.13, 5.14, 5.15],\n",
       "        [5.21, 5.22, 5.23, 5.24, 5.25],\n",
       "        [5.31, 5.32, 5.33, 5.34, 5.35],\n",
       "        [0.  , 0.  , 0.  , 0.  , 0.  ]],\n",
       "\n",
       "       [[6.11, 6.12, 6.13, 6.14, 6.15],\n",
       "        [6.21, 6.22, 6.23, 6.24, 6.25],\n",
       "        [6.31, 6.32, 6.33, 6.34, 6.35],\n",
       "        [6.41, 6.42, 6.43, 6.44, 6.45]]], dtype=float32)>"
      ]
     },
     "execution_count": 10,
     "metadata": {},
     "output_type": "execute_result"
    }
   ],
   "source": [
    "d"
   ]
  },
  {
   "cell_type": "code",
   "execution_count": 11,
   "metadata": {},
   "outputs": [],
   "source": [
    "less_lengths = tf.maximum(lengths - 1, tf.ones_like(lengths))\n",
    "new_mask = tf.sequence_mask(less_lengths, tf.reduce_max(less_lengths))"
   ]
  },
  {
   "cell_type": "code",
   "execution_count": 12,
   "metadata": {},
   "outputs": [],
   "source": [
    "d2 = dense_masked_select(batch, new_mask)"
   ]
  },
  {
   "cell_type": "code",
   "execution_count": 13,
   "metadata": {},
   "outputs": [
    {
     "data": {
      "text/plain": [
       "TensorShape([6, 3, 5])"
      ]
     },
     "execution_count": 13,
     "metadata": {},
     "output_type": "execute_result"
    }
   ],
   "source": [
    "d2.shape"
   ]
  },
  {
   "cell_type": "code",
   "execution_count": 14,
   "metadata": {},
   "outputs": [
    {
     "data": {
      "text/plain": [
       "<tf.Tensor: shape=(6, 3, 5), dtype=float32, numpy=\n",
       "array([[[1.11, 1.12, 1.13, 1.14, 1.15],\n",
       "        [1.21, 1.22, 1.23, 1.24, 1.25],\n",
       "        [1.31, 1.32, 1.33, 1.34, 1.35]],\n",
       "\n",
       "       [[2.11, 2.12, 2.13, 2.14, 2.15],\n",
       "        [0.  , 0.  , 0.  , 0.  , 0.  ],\n",
       "        [0.  , 0.  , 0.  , 0.  , 0.  ]],\n",
       "\n",
       "       [[3.11, 3.12, 3.13, 3.14, 3.15],\n",
       "        [3.21, 3.22, 3.23, 3.24, 3.25],\n",
       "        [3.31, 3.32, 3.33, 3.34, 3.35]],\n",
       "\n",
       "       [[4.11, 4.12, 4.13, 4.14, 4.15],\n",
       "        [0.  , 0.  , 0.  , 0.  , 0.  ],\n",
       "        [0.  , 0.  , 0.  , 0.  , 0.  ]],\n",
       "\n",
       "       [[5.11, 5.12, 5.13, 5.14, 5.15],\n",
       "        [5.21, 5.22, 5.23, 5.24, 5.25],\n",
       "        [0.  , 0.  , 0.  , 0.  , 0.  ]],\n",
       "\n",
       "       [[6.11, 6.12, 6.13, 6.14, 6.15],\n",
       "        [6.21, 6.22, 6.23, 6.24, 6.25],\n",
       "        [6.31, 6.32, 6.33, 6.34, 6.35]]], dtype=float32)>"
      ]
     },
     "execution_count": 14,
     "metadata": {},
     "output_type": "execute_result"
    }
   ],
   "source": [
    "d2"
   ]
  },
  {
   "cell_type": "code",
   "execution_count": 15,
   "metadata": {},
   "outputs": [],
   "source": [
    "new_mask = tf.convert_to_tensor(np.array(\n",
    "    [\n",
    "        [1, 0, 1, 0],\n",
    "        [0, 1, 1, 1],\n",
    "        [1, 1, 0, 0],\n",
    "        [1, 1, 1, 1],\n",
    "        [0, 1, 0, 0],\n",
    "        [0, 1, 1, 1],\n",
    "    ], dtype=np.bool\n",
    "))"
   ]
  },
  {
   "cell_type": "code",
   "execution_count": 16,
   "metadata": {},
   "outputs": [
    {
     "data": {
      "text/plain": [
       "<tf.Tensor: shape=(6, 4, 5), dtype=float32, numpy=\n",
       "array([[[1.11, 1.12, 1.13, 1.14, 1.15],\n",
       "        [0.  , 0.  , 0.  , 0.  , 0.  ],\n",
       "        [1.31, 1.32, 1.33, 1.34, 1.35],\n",
       "        [0.  , 0.  , 0.  , 0.  , 0.  ]],\n",
       "\n",
       "       [[0.  , 0.  , 0.  , 0.  , 0.  ],\n",
       "        [2.21, 2.22, 2.23, 2.24, 2.25],\n",
       "        [2.31, 2.32, 2.33, 2.34, 2.35],\n",
       "        [2.41, 2.42, 2.43, 2.44, 2.45]],\n",
       "\n",
       "       [[3.11, 3.12, 3.13, 3.14, 3.15],\n",
       "        [3.21, 3.22, 3.23, 3.24, 3.25],\n",
       "        [0.  , 0.  , 0.  , 0.  , 0.  ],\n",
       "        [0.  , 0.  , 0.  , 0.  , 0.  ]],\n",
       "\n",
       "       [[4.11, 4.12, 4.13, 4.14, 4.15],\n",
       "        [4.21, 4.22, 4.23, 4.24, 4.25],\n",
       "        [4.31, 4.32, 4.33, 4.34, 4.35],\n",
       "        [4.41, 4.42, 4.43, 4.44, 4.45]],\n",
       "\n",
       "       [[0.  , 0.  , 0.  , 0.  , 0.  ],\n",
       "        [5.21, 5.22, 5.23, 5.24, 5.25],\n",
       "        [0.  , 0.  , 0.  , 0.  , 0.  ],\n",
       "        [0.  , 0.  , 0.  , 0.  , 0.  ]],\n",
       "\n",
       "       [[0.  , 0.  , 0.  , 0.  , 0.  ],\n",
       "        [6.21, 6.22, 6.23, 6.24, 6.25],\n",
       "        [6.31, 6.32, 6.33, 6.34, 6.35],\n",
       "        [6.41, 6.42, 6.43, 6.44, 6.45]]], dtype=float32)>"
      ]
     },
     "execution_count": 16,
     "metadata": {},
     "output_type": "execute_result"
    }
   ],
   "source": [
    "d = dense_masked_select(batch, new_mask)\n",
    "d"
   ]
  },
  {
   "cell_type": "code",
   "execution_count": 17,
   "metadata": {},
   "outputs": [],
   "source": [
    "indices = tf.where(new_mask)"
   ]
  },
  {
   "cell_type": "code",
   "execution_count": 18,
   "metadata": {},
   "outputs": [
    {
     "data": {
      "text/plain": [
       "<tf.Tensor: shape=(15, 2), dtype=int64, numpy=\n",
       "array([[0, 0],\n",
       "       [0, 2],\n",
       "       [1, 1],\n",
       "       [1, 2],\n",
       "       [1, 3],\n",
       "       [2, 0],\n",
       "       [2, 1],\n",
       "       [3, 0],\n",
       "       [3, 1],\n",
       "       [3, 2],\n",
       "       [3, 3],\n",
       "       [4, 1],\n",
       "       [5, 1],\n",
       "       [5, 2],\n",
       "       [5, 3]])>"
      ]
     },
     "execution_count": 18,
     "metadata": {},
     "output_type": "execute_result"
    }
   ],
   "source": [
    "indices"
   ]
  },
  {
   "cell_type": "code",
   "execution_count": 19,
   "metadata": {},
   "outputs": [
    {
     "data": {
      "text/plain": [
       "<tf.Tensor: shape=(24, 2), dtype=int64, numpy=\n",
       "array([[0, 0],\n",
       "       [0, 0],\n",
       "       [0, 2],\n",
       "       [0, 0],\n",
       "       [0, 0],\n",
       "       [1, 1],\n",
       "       [1, 2],\n",
       "       [1, 3],\n",
       "       [2, 0],\n",
       "       [2, 1],\n",
       "       [0, 0],\n",
       "       [0, 0],\n",
       "       [3, 0],\n",
       "       [3, 1],\n",
       "       [3, 2],\n",
       "       [3, 3],\n",
       "       [0, 0],\n",
       "       [4, 1],\n",
       "       [0, 0],\n",
       "       [0, 0],\n",
       "       [0, 0],\n",
       "       [5, 1],\n",
       "       [5, 2],\n",
       "       [5, 3]])>"
      ]
     },
     "execution_count": 19,
     "metadata": {},
     "output_type": "execute_result"
    }
   ],
   "source": [
    "# This doesn't work because the calculated index just puts it back where it is supposed to go in the 2D\n",
    "flat_idx = indices[:, 0] * T + indices[:, 1]\n",
    "tf.scatter_nd(tf.reshape(flat_idx, (-1, 1)), indices, shape=(B * T, 2))"
   ]
  },
  {
   "cell_type": "code",
   "execution_count": 20,
   "metadata": {},
   "outputs": [],
   "source": [
    "@tf.function\n",
    "def to_dense_idx(indices, T):\n",
    "    idx = tf.TensorArray(dtype=tf.int64, size=tf.shape(indices)[0], dynamic_size=False)\n",
    "    prev = tf.cast(-1, tf.int64)\n",
    "    j = tf.cast(0, tf.int64)\n",
    "    T = tf.cast(T, tf.int64)\n",
    "    for i in range(tf.shape(indices)[0]):\n",
    "        if indices[i][0] == prev:\n",
    "            j += 1\n",
    "        else:\n",
    "            prev = indices[i][0]\n",
    "            j = tf.cast(0, tf.int64)\n",
    "        idx = idx.write(i, prev * T + j)\n",
    "    return idx.stack()"
   ]
  },
  {
   "cell_type": "code",
   "execution_count": 21,
   "metadata": {},
   "outputs": [
    {
     "data": {
      "text/plain": [
       "<tf.Tensor: shape=(15,), dtype=int64, numpy=array([ 0,  1,  4,  5,  6,  8,  9, 12, 13, 14, 15, 16, 20, 21, 22])>"
      ]
     },
     "execution_count": 21,
     "metadata": {},
     "output_type": "execute_result"
    }
   ],
   "source": [
    "to_dense_idx(indices, T)"
   ]
  },
  {
   "cell_type": "code",
   "execution_count": 22,
   "metadata": {},
   "outputs": [],
   "source": [
    "def to_dense_idx2(indices, T):\n",
    "    _, mapping, count = tf.unique_with_counts(indices[:, 0])\n",
    "    batch_offsets = indices[:, 0] * T\n",
    "    prebatch_counts = tf.gather(count, mapping)\n",
    "    print(batch_offsets)\n",
    "    print(prebatch_counts)\n",
    "    batch_idx = indices[:, 1]\n",
    "    print(batch_idx)\n",
    "    \n",
    "    "
   ]
  },
  {
   "cell_type": "code",
   "execution_count": 23,
   "metadata": {},
   "outputs": [
    {
     "name": "stdout",
     "output_type": "stream",
     "text": [
      "tf.Tensor([ 0  0  4  4  4  8  8 12 12 12 12 16 20 20 20], shape=(15,), dtype=int64)\n",
      "tf.Tensor([2 2 3 3 3 2 2 4 4 4 4 1 3 3 3], shape=(15,), dtype=int32)\n",
      "tf.Tensor([0 2 1 2 3 0 1 0 1 2 3 1 1 2 3], shape=(15,), dtype=int64)\n"
     ]
    }
   ],
   "source": [
    "to_dense_idx2(indices, T)"
   ]
  },
  {
   "cell_type": "code",
   "execution_count": 24,
   "metadata": {},
   "outputs": [
    {
     "data": {
      "text/plain": [
       "<tf.Tensor: shape=(24, 2), dtype=int64, numpy=\n",
       "array([[0, 0],\n",
       "       [0, 2],\n",
       "       [0, 0],\n",
       "       [0, 0],\n",
       "       [1, 1],\n",
       "       [1, 2],\n",
       "       [1, 3],\n",
       "       [0, 0],\n",
       "       [2, 0],\n",
       "       [2, 1],\n",
       "       [0, 0],\n",
       "       [0, 0],\n",
       "       [3, 0],\n",
       "       [3, 1],\n",
       "       [3, 2],\n",
       "       [3, 3],\n",
       "       [4, 1],\n",
       "       [0, 0],\n",
       "       [0, 0],\n",
       "       [0, 0],\n",
       "       [5, 1],\n",
       "       [5, 2],\n",
       "       [5, 3],\n",
       "       [0, 0]])>"
      ]
     },
     "execution_count": 24,
     "metadata": {},
     "output_type": "execute_result"
    }
   ],
   "source": [
    "tf.scatter_nd(tf.reshape(to_dense_idx(indices, T), (-1, 1)), indices, shape=(B * T, 2))"
   ]
  },
  {
   "cell_type": "code",
   "execution_count": 25,
   "metadata": {},
   "outputs": [],
   "source": [
    "def span_select(tensor, mask):\n",
    "    B = tf.shape(mask)[0]\n",
    "    T = tf.shape(mask)[1]\n",
    "    \n",
    "    indices = tf.where(mask)\n",
    "    dense_indices = to_dense_idx(indices, T)\n",
    "    indices = tf.scatter_nd(tf.reshape(dense_indices, (-1, 1)), indices, shape=(B * T, 2))\n",
    "\n",
    "    selected = tf.gather_nd(tensor, indices)\n",
    "    dense = tf.reshape(selected, (B, T, -1))\n",
    "    dense_lengths = tf.reduce_sum(tf.cast(mask, tf.int32), axis=1)\n",
    "    dense_mask = tf.sequence_mask(dense_lengths, tf.shape(dense)[1])\n",
    "    return tf.multiply(dense, tf.expand_dims(tf.cast(dense_mask, dense.dtype), -1)), dense_lengths"
   ]
  },
  {
   "cell_type": "code",
   "execution_count": 26,
   "metadata": {},
   "outputs": [
    {
     "data": {
      "text/plain": [
       "(<tf.Tensor: shape=(6, 4, 5), dtype=float32, numpy=\n",
       " array([[[1.11, 1.12, 1.13, 1.14, 1.15],\n",
       "         [1.31, 1.32, 1.33, 1.34, 1.35],\n",
       "         [0.  , 0.  , 0.  , 0.  , 0.  ],\n",
       "         [0.  , 0.  , 0.  , 0.  , 0.  ]],\n",
       " \n",
       "        [[2.21, 2.22, 2.23, 2.24, 2.25],\n",
       "         [2.31, 2.32, 2.33, 2.34, 2.35],\n",
       "         [2.41, 2.42, 2.43, 2.44, 2.45],\n",
       "         [0.  , 0.  , 0.  , 0.  , 0.  ]],\n",
       " \n",
       "        [[3.11, 3.12, 3.13, 3.14, 3.15],\n",
       "         [3.21, 3.22, 3.23, 3.24, 3.25],\n",
       "         [0.  , 0.  , 0.  , 0.  , 0.  ],\n",
       "         [0.  , 0.  , 0.  , 0.  , 0.  ]],\n",
       " \n",
       "        [[4.11, 4.12, 4.13, 4.14, 4.15],\n",
       "         [4.21, 4.22, 4.23, 4.24, 4.25],\n",
       "         [4.31, 4.32, 4.33, 4.34, 4.35],\n",
       "         [4.41, 4.42, 4.43, 4.44, 4.45]],\n",
       " \n",
       "        [[5.21, 5.22, 5.23, 5.24, 5.25],\n",
       "         [0.  , 0.  , 0.  , 0.  , 0.  ],\n",
       "         [0.  , 0.  , 0.  , 0.  , 0.  ],\n",
       "         [0.  , 0.  , 0.  , 0.  , 0.  ]],\n",
       " \n",
       "        [[6.21, 6.22, 6.23, 6.24, 6.25],\n",
       "         [6.31, 6.32, 6.33, 6.34, 6.35],\n",
       "         [6.41, 6.42, 6.43, 6.44, 6.45],\n",
       "         [0.  , 0.  , 0.  , 0.  , 0.  ]]], dtype=float32)>,\n",
       " <tf.Tensor: shape=(6,), dtype=int32, numpy=array([2, 3, 2, 4, 1, 3], dtype=int32)>)"
      ]
     },
     "execution_count": 26,
     "metadata": {},
     "output_type": "execute_result"
    }
   ],
   "source": [
    "span_select(batch, new_mask)"
   ]
  },
  {
   "cell_type": "code",
   "execution_count": 27,
   "metadata": {},
   "outputs": [
    {
     "name": "stdout",
     "output_type": "stream",
     "text": [
      "[[0 0]\n",
      " [0 2]\n",
      " [1 1]\n",
      " [1 2]\n",
      " [1 3]\n",
      " [2 0]\n",
      " [2 1]\n",
      " [3 0]\n",
      " [3 1]\n",
      " [3 2]\n",
      " [3 3]\n",
      " [4 1]\n",
      " [5 1]\n",
      " [5 2]\n",
      " [5 3]]\n",
      "[ 0  1  4  5  6  8  9 12 13 14 15 16 20 21 22]\n"
     ]
    }
   ],
   "source": [
    "example = indices.numpy()\n",
    "\n",
    "def to_dense_idx_imperative(indices, T):\n",
    "    dense = []\n",
    "    prev = -1\n",
    "    j = 0\n",
    "    for i, idx in enumerate(indices):\n",
    "        if idx[0] == prev:\n",
    "            j += 1\n",
    "        else:\n",
    "            prev = idx[0]\n",
    "            j = 0\n",
    "        dense.append(prev * T + j)\n",
    "    return np.array(dense)\n",
    "\n",
    "print(example)\n",
    "print(to_dense_idx_imperative(example, T))"
   ]
  },
  {
   "cell_type": "code",
   "execution_count": 28,
   "metadata": {},
   "outputs": [],
   "source": [
    "def unique_prefix_sum(idx):\n",
    "    ps = []\n",
    "    prev = -1\n",
    "    count = 0\n",
    "    for i in idx:\n",
    "        if prev == i:\n",
    "            count += 1\n",
    "        else:\n",
    "            prev = i\n",
    "            count = 0\n",
    "        ps.append(count)\n",
    "    return np.array(ps)\n",
    "\n",
    "def to_dense_idx_vect(indices, T):\n",
    "    uniq = unique_prefix_sum(indices[:, 0])\n",
    "    batch_offset = indices[:, 0] * T\n",
    "    return batch_offset + uniq"
   ]
  },
  {
   "cell_type": "code",
   "execution_count": 29,
   "metadata": {},
   "outputs": [
    {
     "data": {
      "text/plain": [
       "array([ 0,  1,  4,  5,  6,  8,  9, 12, 13, 14, 15, 16, 20, 21, 22])"
      ]
     },
     "execution_count": 29,
     "metadata": {},
     "output_type": "execute_result"
    }
   ],
   "source": [
    "to_dense_idx_vect(example, T)"
   ]
  },
  {
   "cell_type": "code",
   "execution_count": 30,
   "metadata": {},
   "outputs": [
    {
     "data": {
      "text/plain": [
       "<tf.Tensor: shape=(6, 4), dtype=bool, numpy=\n",
       "array([[ True, False,  True, False],\n",
       "       [False,  True,  True,  True],\n",
       "       [ True,  True, False, False],\n",
       "       [ True,  True,  True,  True],\n",
       "       [False,  True, False, False],\n",
       "       [False,  True,  True,  True]])>"
      ]
     },
     "execution_count": 30,
     "metadata": {},
     "output_type": "execute_result"
    }
   ],
   "source": [
    "new_mask"
   ]
  },
  {
   "cell_type": "code",
   "execution_count": 31,
   "metadata": {},
   "outputs": [
    {
     "data": {
      "text/plain": [
       "<tf.Tensor: shape=(15, 2), dtype=int64, numpy=\n",
       "array([[0, 0],\n",
       "       [0, 2],\n",
       "       [1, 1],\n",
       "       [1, 2],\n",
       "       [1, 3],\n",
       "       [2, 0],\n",
       "       [2, 1],\n",
       "       [3, 0],\n",
       "       [3, 1],\n",
       "       [3, 2],\n",
       "       [3, 3],\n",
       "       [4, 1],\n",
       "       [5, 1],\n",
       "       [5, 2],\n",
       "       [5, 3]])>"
      ]
     },
     "execution_count": 31,
     "metadata": {},
     "output_type": "execute_result"
    }
   ],
   "source": [
    "indices"
   ]
  },
  {
   "cell_type": "code",
   "execution_count": null,
   "metadata": {},
   "outputs": [],
   "source": []
  }
 ],
 "metadata": {
  "kernelspec": {
   "display_name": "Python 3",
   "language": "python",
   "name": "python3"
  },
  "language_info": {
   "codemirror_mode": {
    "name": "ipython",
    "version": 3
   },
   "file_extension": ".py",
   "mimetype": "text/x-python",
   "name": "python",
   "nbconvert_exporter": "python",
   "pygments_lexer": "ipython3",
   "version": "3.6.9"
  }
 },
 "nbformat": 4,
 "nbformat_minor": 2
}
